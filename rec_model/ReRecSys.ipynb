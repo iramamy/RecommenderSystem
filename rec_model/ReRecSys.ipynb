{
  "cells": [
    {
      "cell_type": "code",
      "execution_count": 2,
      "metadata": {
        "id": "K2TwUstWUqds"
      },
      "outputs": [],
      "source": [
        "import numpy as np\n",
        "import pickle\n",
        "import pandas as pd\n",
        "import matplotlib.pyplot as plt"
      ]
    },
    {
      "cell_type": "code",
      "execution_count": 3,
      "metadata": {
        "id": "mfxx_5jYTwsp"
      },
      "outputs": [],
      "source": [
        "path = './data/'"
      ]
    },
    {
      "cell_type": "code",
      "execution_count": 4,
      "metadata": {
        "id": "Y_vqdHlIUu5z"
      },
      "outputs": [],
      "source": [
        "### Load the main data\n",
        "\n",
        "data = pd.read_csv(\n",
        "    path+'ratings.dat',\n",
        "    sep='::',\n",
        "    engine='python',\n",
        "    header=None,\n",
        "    encoding='latin1')\n"
      ]
    },
    {
      "cell_type": "code",
      "execution_count": 4,
      "metadata": {
        "id": "G0ozawG3gagg"
      },
      "outputs": [],
      "source": [
        "### Upload the Movie data\n",
        "column_names = ['movieId', 'title', 'genres']\n",
        "movie = pd.read_csv(\n",
        "    path+'movies.dat',\n",
        "    sep='::',\n",
        "    engine='python',\n",
        "    header=None,\n",
        "    names=column_names,\n",
        "    encoding='latin1')\n"
      ]
    },
    {
      "cell_type": "code",
      "execution_count": 5,
      "metadata": {
        "id": "gI2fhKJOgbfF"
      },
      "outputs": [],
      "source": [
        "genre = movie['genres']"
      ]
    },
    {
      "cell_type": "markdown",
      "metadata": {
        "id": "Tdx-wagjiFTG"
      },
      "source": [
        "## Get unique genre"
      ]
    },
    {
      "cell_type": "code",
      "execution_count": 6,
      "metadata": {
        "id": "KkKZOzIFg9ai"
      },
      "outputs": [],
      "source": [
        "all_genres = {}\n",
        "for row in genre:\n",
        "    _genre = row.split('|')\n",
        "    for unique_genre in _genre:\n",
        "        if unique_genre not in all_genres:\n",
        "            all_genres[unique_genre] = len(all_genres)\n",
        "\n",
        "# genre2Id = genres_split.apply(lambda x: [genre_to_id[genre] for genre in x])\n",
        "genre_split = genre.str.split('|')\n",
        "genre2Id = genre_split.apply(lambda x: [all_genres[genre] for genre in x])"
      ]
    },
    {
      "cell_type": "markdown",
      "metadata": {
        "id": "uDFGpxJFszeQ"
      },
      "source": [
        "## Genre to Id"
      ]
    },
    {
      "cell_type": "code",
      "execution_count": 7,
      "metadata": {
        "id": "sFoHok_rsRPm"
      },
      "outputs": [],
      "source": [
        "movie['genreId'] = genre2Id"
      ]
    },
    {
      "cell_type": "markdown",
      "metadata": {},
      "source": [
        "# Create the sparse matrix"
      ]
    },
    {
      "cell_type": "code",
      "execution_count": 8,
      "metadata": {
        "id": "o92FfDqwUzq7"
      },
      "outputs": [],
      "source": [
        "def sparse_matrix(data):\n",
        "\n",
        "    # Extract user, movie, rating columns from data\n",
        "    user, movie, rating = data.iloc[:, 0], data.iloc[:, 1], data.iloc[:, 2]\n",
        "\n",
        "    # mapping from user to index\n",
        "    map_user_to_index = {}\n",
        "    map_index_to_user = []\n",
        "\n",
        "    # mapping from movie to index\n",
        "    map_movie_to_index = {}\n",
        "    map_index_to_movie = []\n",
        "\n",
        "\n",
        "    for user_id, movie_id  in zip(user, movie):\n",
        "        if user_id not in map_user_to_index.keys():\n",
        "            index_user = len(map_index_to_user)\n",
        "            map_index_to_user.append(user_id)\n",
        "            map_user_to_index[user_id] = index_user\n",
        "        else:\n",
        "            index_user = map_user_to_index[user_id]\n",
        "\n",
        "        if movie_id not in map_movie_to_index.keys():\n",
        "            index_movie = len(map_index_to_movie)\n",
        "            map_index_to_movie.append(movie_id)\n",
        "            map_movie_to_index[movie_id] = index_movie\n",
        "        else:\n",
        "            index_movie = map_movie_to_index[movie_id]\n",
        "\n",
        "    #Initialize with empty list all the trainings data.\n",
        "    user_data_train = [[] for i in range(len(map_index_to_user))]\n",
        "    movie_data_train = [[] for i in range(len(map_index_to_movie))]\n",
        "\n",
        "    #Initialize with empty list all the test data.\n",
        "    user_data_test = [[] for i in range(len(map_index_to_user))]\n",
        "    movie_data_test = [[] for i in range(len(map_index_to_movie))]\n",
        "\n",
        "    counter = 0\n",
        "    for U_Id, M_Id, rat in zip(user, movie, rating):\n",
        "        User_Id = map_user_to_index[U_Id]\n",
        "        Movie_Id = map_movie_to_index[M_Id]\n",
        "\n",
        "        if counter < int(0.9 * len(data)):  # Put 90% of the data into the training data\n",
        "            user_data_train[User_Id].append((Movie_Id, rat))\n",
        "            movie_data_train[Movie_Id].append((User_Id, rat))\n",
        "        else:\n",
        "            user_data_test[User_Id].append((Movie_Id, rat))\n",
        "            movie_data_test[Movie_Id].append((User_Id, rat))\n",
        "        counter += 1\n",
        "\n",
        "    return user_data_train, movie_data_train, user_data_test, movie_data_test, map_user_to_index, map_index_to_user, map_movie_to_index, map_index_to_movie"
      ]
    },
    {
      "cell_type": "code",
      "execution_count": 9,
      "metadata": {},
      "outputs": [],
      "source": [
        "\n",
        "user_data_train, movie_data_train, user_data_test, movie_data_test, map_user_to_index, map_index_to_user, map_movie_to_index, map_index_to_movie = sparse_matrix(data)"
      ]
    },
    {
      "cell_type": "code",
      "execution_count": 14,
      "metadata": {
        "id": "uDxrA59TMfzt"
      },
      "outputs": [],
      "source": [
        "# Transform it into dictionary\n",
        "movie_dict = {}\n",
        "for index, row in movie.iterrows():\n",
        "    movie_id = row['movieId']\n",
        "    title = row['title']\n",
        "    genres = row['genres']\n",
        "    movie_dict[movie_id] = {'title': title, 'genres': genres}\n",
        "\n",
        "# Initialize the mappings\n",
        "genre_to_movies = {}\n",
        "movie_to_genres = {}\n",
        "\n",
        "# Populate the mappings\n",
        "for movie_index, movie_info in movie_dict.items():\n",
        "    if movie_index in map_movie_to_index:\n",
        "        movie_internal_index = map_movie_to_index[movie_index]\n",
        "        genres = movie_info['genres'].split('|')\n",
        "\n",
        "        for genre in genres:\n",
        "            if genre not in genre_to_movies:\n",
        "                genre_to_movies[genre] = []\n",
        "            genre_to_movies[genre].append(movie_internal_index)\n",
        "\n",
        "            if movie_internal_index not in movie_to_genres:\n",
        "                movie_to_genres[movie_internal_index] = []\n",
        "            movie_to_genres[movie_internal_index].append(genre)\n"
      ]
    },
    {
      "cell_type": "code",
      "execution_count": 15,
      "metadata": {
        "id": "mccjA0ZCVobb"
      },
      "outputs": [],
      "source": [
        "### Hyperparameter Initialization\n",
        "\n",
        "lmbda = 0.005       # <--- lambda\n",
        "tau = 0.01\n",
        "gamma = 0.5\n",
        "latent_dim = 10      # <--- K\n",
        "mu = 0\n",
        "sigma = 1/np.sqrt(latent_dim)\n",
        "feature_dim = len(genre_to_movies)"
      ]
    },
    {
      "cell_type": "code",
      "execution_count": 16,
      "metadata": {
        "id": "Jyepd_F8VafB"
      },
      "outputs": [],
      "source": [
        "#### Compute and update biases\n",
        "def compute_bias(sparse_user,\n",
        "                 sparse_movie,\n",
        "                 user_matrix,\n",
        "                 movie_matrix,\n",
        "                 user_bias,\n",
        "                 movie_bias\n",
        "                ):\n",
        "\n",
        "    # Update user biases\n",
        "    for user_Id in range(len(sparse_user)):\n",
        "        bias = 0\n",
        "        movie_counter = 0\n",
        "        for movie_Id, rat in sparse_user[user_Id]:\n",
        "            bias += lmbda * (rat- (np.dot(user_matrix[user_Id,:].T, movie_matrix[movie_Id,:]) + movie_bias[movie_Id]))\n",
        "            movie_counter += 1\n",
        "\n",
        "        bias = bias/ (lmbda * movie_counter + gamma)\n",
        "        user_bias[user_Id] = bias\n",
        "\n",
        "    # Update movie biases\n",
        "    for movie_Id in range(len(sparse_movie)):\n",
        "        bias = 0\n",
        "        user_counter = 0\n",
        "        for user_Id, rat in sparse_movie[movie_Id]:\n",
        "            bias += lmbda * (rat - (np.dot(movie_matrix[movie_Id,:].T, user_matrix[user_Id,:]) + user_bias[user_Id]))\n",
        "            user_counter += 1\n",
        "        bias = bias/ (lmbda * user_counter + gamma)\n",
        "        movie_bias[movie_Id] = bias"
      ]
    },
    {
      "cell_type": "code",
      "execution_count": 17,
      "metadata": {
        "id": "vAoZAELjVu7u"
      },
      "outputs": [],
      "source": [
        "def update_matrices(\n",
        "        sparse_user,\n",
        "        sparse_movie,\n",
        "        user_matrix,\n",
        "        movie_matrix,\n",
        "        user_bias,\n",
        "        movie_bias\n",
        "                    ):\n",
        "\n",
        "    # Update user matrix\n",
        "    for user_Id in range(len(sparse_user)):\n",
        "        if not sparse_user[user_Id]:\n",
        "            continue\n",
        "\n",
        "        U_left = 0\n",
        "        U_right = 0\n",
        "\n",
        "        for movie_Id, rat in sparse_user[user_Id]:\n",
        "            U_left += lmbda * np.outer(movie_matrix[movie_Id,:], movie_matrix[movie_Id,:])\n",
        "            U_right += lmbda * movie_matrix[movie_Id] * (rat - user_bias[user_Id] - movie_bias[movie_Id])\n",
        "\n",
        "        U_left += tau * np.eye(latent_dim)\n",
        "        user_matrix[user_Id] = np.dot(np.linalg.inv(U_left), U_right)\n",
        "\n",
        "    # Update movie matrix\n",
        "    for movie_Id in range(len(sparse_movie)):\n",
        "        if not sparse_movie[movie_Id]:\n",
        "            continue\n",
        "\n",
        "        M_left = 0\n",
        "        M_right = 0\n",
        "        for user_Id, rat in sparse_movie[movie_Id]:\n",
        "            M_left += lmbda * np.outer(user_matrix[user_Id,:], user_matrix[user_Id,:])\n",
        "            M_right += lmbda * user_matrix[user_Id] * (rat - movie_bias[movie_Id] - user_bias[user_Id])\n",
        "\n",
        "        M_left += tau * np.eye(latent_dim)\n",
        "        movie_matrix[movie_Id] = np.dot(np.linalg.inv(M_left), M_right)"
      ]
    },
    {
      "cell_type": "code",
      "execution_count": 18,
      "metadata": {
        "id": "KTUDTSjQV0z-"
      },
      "outputs": [],
      "source": [
        "### Compute Root Mean Square Error\n",
        "def root_mean_square(user_data, user_matrix, movie_matrix, user_bias, movie_bias):\n",
        "\n",
        "    err = 0\n",
        "    num_rating = 0\n",
        "\n",
        "    for user_Id in range(len(user_data)):\n",
        "        for movie_Id ,rating in user_data[user_Id]:\n",
        "            pred = (user_matrix[user_Id].T @ movie_matrix[movie_Id] + user_bias[user_Id] + movie_bias[movie_Id])\n",
        "            err += (rating - pred) ** 2\n",
        "        num_rating += len(user_data[user_Id])\n",
        "\n",
        "    Error = err / num_rating\n",
        "\n",
        "    return np.sqrt(Error)"
      ]
    },
    {
      "cell_type": "code",
      "execution_count": 19,
      "metadata": {
        "id": "EpBtVS90QULM"
      },
      "outputs": [],
      "source": [
        "# Initialize feature vectors\n",
        "feature_vector = {}\n",
        "for genre in genre_to_movies:\n",
        "    feature_vector[genre] = np.random.normal(mu, sigma, size=(latent_dim))\n",
        "\n",
        "def update_features(features):\n",
        "    for feature_index in features:\n",
        "        s_fn = 0\n",
        "        s_vec = np.zeros(latent_dim)\n",
        "        feature_items = genre_to_movies[feature_index]\n",
        "        for item_index in feature_items:\n",
        "            fn = len(movie_to_genres[item_index])\n",
        "            s_fn = s_fn + 1 / fn\n",
        "            s_fl = np.zeros(latent_dim)\n",
        "            for l in movie_to_genres[item_index]:\n",
        "                if l != feature_index:\n",
        "                    s_fl = s_fl + feature_vector[l]\n",
        "\n",
        "            s_vec = s_vec + movie_matrix_train[item_index] / np.sqrt(fn) - 1 / fn * s_fl\n",
        "        feature_vector[feature_index] = (1 / (1 + s_fn)) * s_vec"
      ]
    },
    {
      "cell_type": "code",
      "execution_count": 21,
      "metadata": {
        "id": "GBCmpToTLBWg"
      },
      "outputs": [],
      "source": [
        "def loss_function(\n",
        "        user_data,\n",
        "        movie_data,\n",
        "        user_matrix,\n",
        "        movie_matrix,\n",
        "        user_Bias,\n",
        "        movie_Bias,\n",
        "        feature_vector\n",
        "        ):\n",
        "\n",
        "    diff = 0\n",
        "    user_sum = 0\n",
        "    movie_sum = 0\n",
        "    feature_sum = 0\n",
        "\n",
        "    for userId in range(len(user_data)):\n",
        "        for movieId, rat in user_data[userId]:\n",
        "            if len(user_data[userId]) == 0:\n",
        "                continue\n",
        "            else:\n",
        "                matrix_user_movie = np.dot(user_matrix[userId,:].T, movie_matrix[movieId,:])\n",
        "                diff += (rat - (matrix_user_movie + user_Bias[userId] + movie_Bias[movieId]))**2\n",
        "\n",
        "    for U_id in range(len(user_data)):\n",
        "        user_sum += np.dot(user_matrix[U_id].T , user_matrix[U_id])\n",
        "\n",
        "    for M_id in range(len(movie_data)):\n",
        "        fn = len(movie_to_genres[M_id])\n",
        "        genre_sum = np.zeros(latent_dim)\n",
        "\n",
        "        for genre in movie_to_genres[M_id]:\n",
        "            genre_sum += feature_vector[genre]\n",
        "\n",
        "        movie_vector = movie_matrix[M_id] - (1 / np.sqrt(fn)) * genre_sum\n",
        "        movie_sum += np.dot(movie_vector.T, movie_vector)\n",
        "\n",
        "    for feature in feature_vector:\n",
        "        feature_sum += np.dot(feature_vector[feature].T, feature_vector[feature])\n",
        "\n",
        "    U = np.dot(user_Bias, user_Bias)\n",
        "    V = np.dot(movie_Bias, movie_Bias)\n",
        "\n",
        "    loss = ((lmbda*diff) + (gamma*U) + (tau*user_sum) + (gamma*V) + (tau*movie_sum) + (tau*feature_sum))/2\n",
        "\n",
        "    return loss\n"
      ]
    },
    {
      "cell_type": "code",
      "execution_count": 22,
      "metadata": {
        "cellView": "form",
        "id": "ilk_sQIlV5C2"
      },
      "outputs": [],
      "source": [
        "# @title Default title text\n",
        "### Create function for plotting\n",
        "def plot_(iteration_number, loss_values_train, loss_values_test, ylabel, Figure_name, plot_title):\n",
        "\n",
        "    # Plot initialization\n",
        "    plt.figure(figsize=(10, 6))\n",
        "    plt.gca()\n",
        "    ax = plt.gca()\n",
        "\n",
        "    # Plot the training loss with a blue line\n",
        "    plt.plot(iteration_number, loss_values_train, marker='o', color='black', label=\"Training Loss\")\n",
        "\n",
        "    # Plot the test loss with a red line\n",
        "    plt.plot(iteration_number, loss_values_test, marker='o', color='red', label=\"Test Loss\")\n",
        "\n",
        "    # x and y label\n",
        "    ax.set_xlabel('Iteration', labelpad=10, fontsize=14)\n",
        "    ax.set_ylabel(ylabel+'value', labelpad=10, fontsize=14)\n",
        "\n",
        "    # Plot title\n",
        "    ax.set_title(plot_title, fontsize=14)\n",
        "\n",
        "    # Add a legend to the plot\n",
        "    plt.legend()\n",
        "    plt.grid(True)\n",
        "\n",
        "    ax.tick_params(axis='both', which='both', direction='in', length=5, width=1, pad=6)\n",
        "    ax.tick_params(which='minor', length=3)\n",
        "\n",
        "    # Remove top and right axis\n",
        "    ax.spines[['right', 'top']].set_visible(False)\n",
        "\n",
        "    plt.show()"
      ]
    },
    {
      "cell_type": "code",
      "execution_count": 23,
      "metadata": {
        "id": "i733hbWsV70F"
      },
      "outputs": [],
      "source": [
        "# train matrices\n",
        "\n",
        "user_matrix_train = np.random.normal(mu, sigma, size=(len(user_data_train), latent_dim))\n",
        "movie_matrix_train = np.random.normal(mu, sigma, size=(len(movie_data_train), latent_dim))\n",
        "user_biases_train = np.zeros((len(user_data_train)))\n",
        "movie_biases_train = np.zeros((len(movie_data_train)))\n",
        "\n",
        "# test matrices\n",
        "\n",
        "user_matrix_test = np.random.normal(mu, sigma, size=(len(user_data_test), latent_dim))\n",
        "movie_matrix_test = np.random.normal(mu, sigma, size=(len(movie_data_test), latent_dim))\n",
        "user_biases_test = np.zeros((len(user_data_test)))\n",
        "movie_biases_test = np.zeros((len(movie_data_test)))"
      ]
    },
    {
      "cell_type": "code",
      "execution_count": 24,
      "metadata": {
        "id": "fGEhevYSL2s1"
      },
      "outputs": [],
      "source": [
        "### With feature vector\n",
        "#### Traind the model\n",
        "def train_and_evaluate(iteration):\n",
        "    iteration_number, loss_values_train, loss_values_test, error_train, error_test = [], [], [], [], []\n",
        "\n",
        "    for iter in range(iteration):\n",
        "        # loss function for the train data\n",
        "        compute_bias(user_data_train,\n",
        "                     movie_data_train,\n",
        "                     user_matrix_train,\n",
        "                     movie_matrix_train,\n",
        "                     user_biases_train,\n",
        "                     movie_biases_train)\n",
        "\n",
        "        update_matrices(user_data_train,\n",
        "                        movie_data_train,\n",
        "                        user_matrix_train,\n",
        "                        movie_matrix_train,\n",
        "                        user_biases_train,\n",
        "                        movie_biases_train)\n",
        "\n",
        "        update_features(genre_to_movies.keys())\n",
        "\n",
        "        loss_values_train.append(loss_function(\n",
        "            user_data_train,\n",
        "            movie_data_train,\n",
        "            user_matrix_train,\n",
        "            movie_matrix_train,\n",
        "            user_biases_train,\n",
        "            movie_biases_train,\n",
        "            feature_vector\n",
        "            )\n",
        "        )\n",
        "\n",
        "        # loss function for the test data\n",
        "        compute_bias(user_data_test,\n",
        "                     movie_data_test,\n",
        "                     user_matrix_test,\n",
        "                     movie_matrix_test,\n",
        "                     user_biases_test,\n",
        "                     movie_biases_test)\n",
        "\n",
        "        update_matrices(user_data_test,\n",
        "                        movie_data_test,\n",
        "                        user_matrix_test,\n",
        "                        movie_matrix_test,\n",
        "                        user_biases_test,\n",
        "                        movie_biases_test)\n",
        "\n",
        "        loss_values_test.append(loss_function(user_data_test,\n",
        "                                              movie_data_test,\n",
        "                                              user_matrix_test,\n",
        "                                              movie_matrix_test,\n",
        "                                              user_biases_test,\n",
        "                                              movie_biases_test,\n",
        "                                              feature_vector))\n",
        "\n",
        "        rmse_train = root_mean_square(user_data_train,\n",
        "                                      user_matrix_train,\n",
        "                                      movie_matrix_train,\n",
        "                                      user_biases_train,\n",
        "                                      movie_biases_train)\n",
        "\n",
        "        rmse_test = root_mean_square(user_data_test,\n",
        "                                     user_matrix_test,\n",
        "                                     movie_matrix_test,\n",
        "                                     user_biases_test,\n",
        "                                     movie_biases_test)\n",
        "\n",
        "        error_train.append(rmse_train)\n",
        "        error_test.append(rmse_test)\n",
        "\n",
        "        iteration_number.append(iter)\n",
        "\n",
        "    return loss_values_train, loss_values_test, error_train, error_test, iteration_number"
      ]
    },
    {
      "cell_type": "code",
      "execution_count": 26,
      "metadata": {
        "id": "UoOJesRKWDDs"
      },
      "outputs": [],
      "source": [
        "iteration = 12\n",
        "loss_train, loss_test, error_train, error_test, iteration_number = train_and_evaluate(iteration)"
      ]
    },
    {
      "cell_type": "code",
      "execution_count": 27,
      "metadata": {
        "colab": {
          "base_uri": "https://localhost:8080/",
          "height": 577
        },
        "id": "veu9Yiw6WEv3",
        "outputId": "f218bc0f-6aef-4d9a-9cb1-7e48d774d480"
      },
      "outputs": [
        {
          "data": {
            "image/png": "[encoded data removed]",
            "text/plain": [
              "<Figure size 1000x600 with 1 Axes>"
            ]
          },
          "metadata": {},
          "output_type": "display_data"
        }
      ],
      "source": [
        "### Plot the loss function\n",
        "plot_(iteration_number, loss_train, loss_test, 'Loss ', 'Loss_train_test', 'train-test-data')"
      ]
    },
    {
      "cell_type": "code",
      "execution_count": 28,
      "metadata": {
        "colab": {
          "base_uri": "https://localhost:8080/",
          "height": 577
        },
        "id": "ulZlwnLGWoC8",
        "outputId": "83988846-a264-4892-cee7-fa0cb5457cd1"
      },
      "outputs": [
        {
          "data": {
            "image/png": "[encoded data removed]",
            "text/plain": [
              "<Figure size 1000x600 with 1 Axes>"
            ]
          },
          "metadata": {},
          "output_type": "display_data"
        }
      ],
      "source": [
        "plot_(iteration_number, error_train, error_test, 'RMSE', 'RMSE_train_test', 'train-test-data')"
      ]
    },
    {
      "cell_type": "code",
      "execution_count": 29,
      "metadata": {
        "id": "-g0MVEXjdegn"
      },
      "outputs": [],
      "source": [
        "### Map movie title and genre\n",
        "def get_movie_title(movie_index):\n",
        "    movie_sys = map_index_to_movie[movie_index]\n",
        "    movie_title = movie_dict[movie_sys]['title']\n",
        "    return movie_title"
      ]
    },
    {
      "cell_type": "code",
      "execution_count": 30,
      "metadata": {
        "id": "6MJKCyhldghg"
      },
      "outputs": [],
      "source": [
        "def get_movie_genre(movie_index):\n",
        "    movie_sys = map_index_to_movie[movie_index]\n",
        "    movie_genres = movie_dict[movie_sys]['genres']\n",
        "    return movie_genres"
      ]
    },
    {
      "cell_type": "code",
      "execution_count": 31,
      "metadata": {
        "id": "LK_Tf_R0diEB"
      },
      "outputs": [],
      "source": [
        "### Function to search movie title in movie.csv\n",
        "def search_movieId_by_title(title_to_search):\n",
        "\n",
        "    movie_results = []\n",
        "    title_to_search = title_to_search.lower()\n",
        "\n",
        "    for movie_id, movie_info in movie_dict.items():\n",
        "        if title_to_search in movie_info['title'].lower():\n",
        "            if movie_id in map_movie_to_index:\n",
        "                movie_results.append([map_movie_to_index[movie_id], movie_info['title'], movie_info['genres']])\n",
        "\n",
        "    return movie_results"
      ]
    },
    {
      "cell_type": "code",
      "execution_count": 35,
      "metadata": {
        "id": "7z1nCtKEd59G"
      },
      "outputs": [],
      "source": [
        "def recommend_movies_for_user(\n",
        "        user_movie_ids,\n",
        "        movie_matrix,\n",
        "        movie_biases,\n",
        "        num_recommendations=15,\n",
        "        regularization_factor=0.9):\n",
        "\n",
        "    # Aggregate user preferences across all watched movies\n",
        "    user_preference_vector = np.zeros_like(movie_matrix[0])\n",
        "    for movie_id in user_movie_ids:\n",
        "        user_preference_vector += movie_matrix[movie_id]\n",
        "\n",
        "    # Normalize preference vector\n",
        "    user_preference_vector /= len(user_movie_ids)\n",
        "\n",
        "    _recommended_movies = []\n",
        "\n",
        "    # Calculate preference scores for each movie\n",
        "    for movie_id in range(len(movie_matrix)):\n",
        "        preference_score = np.dot(\n",
        "            user_preference_vector,\n",
        "            movie_matrix[movie_id, :]\n",
        "            ) + regularization_factor * movie_biases[movie_id]\n",
        "\n",
        "        _recommended_movies.append((movie_id, preference_score))\n",
        "\n",
        "    # Sort movies by preference score in descending order\n",
        "    _recommended_movies = sorted(_recommended_movies, key=lambda x: x[1], reverse=True)\n",
        "\n",
        "    # Get the top N recommended movies\n",
        "    _recommended_movies = _recommended_movies[:num_recommendations]\n",
        "\n",
        "    return _recommended_movies\n"
      ]
    },
    {
      "cell_type": "code",
      "execution_count": 36,
      "metadata": {
        "colab": {
          "base_uri": "https://localhost:8080/"
        },
        "id": "0aobCLImkVdz",
        "outputId": "471de565-da06-4bc0-84e1-87ab3b646ebd"
      },
      "outputs": [
        {
          "name": "stdout",
          "output_type": "stream",
          "text": [
            "The user watched:\n",
            "My Life in Pink (Ma vie en rose) (1997)\tComedy|Drama\n",
            "Nénette et Boni (1996)\tDrama\n",
            "African Queen, The (1951)\tAction|Adventure|Romance|War\n",
            "Gattaca (1997)\tDrama|Sci-Fi|Thriller\n",
            "Buffy the Vampire Slayer (1992)\tComedy|Horror\n",
            "Star Trek: First Contact (1996)\tAction|Adventure|Sci-Fi\n",
            "\n",
            "Recommended Movies:\n",
            "44 Star Wars: Episode IV - A New Hope (1977) Action|Adventure|Fantasy|Sci-Fi\n",
            "124 Star Wars: Episode V - The Empire Strikes Back (1980) Action|Adventure|Drama|Sci-Fi|War\n",
            "127 Raiders of the Lost Ark (1981) Action|Adventure\n",
            "132 Matrix, The (1999) Action|Sci-Fi|Thriller\n",
            "38 Sixth Sense, The (1999) Thriller\n",
            "134 Shakespeare in Love (1998) Comedy|Romance\n",
            "64 Star Wars: Episode VI - Return of the Jedi (1983) Action|Adventure|Romance|Sci-Fi|War\n",
            "5 Princess Bride, The (1987) Action|Adventure|Comedy|Romance\n",
            "273 Ghostbusters (1984) Comedy|Horror\n",
            "97 Terminator 2: Judgment Day (1991) Action|Sci-Fi|Thriller\n",
            "22 Back to the Future (1985) Comedy|Sci-Fi\n",
            "189 Men in Black (1997) Action|Adventure|Comedy|Sci-Fi\n",
            "40 Toy Story (1995) Animation|Children's|Comedy\n",
            "50 Toy Story 2 (1999) Animation|Children's|Comedy\n",
            "104 American Beauty (1999) Comedy|Drama\n"
          ]
        }
      ],
      "source": [
        "user_movie_ids = [346, 2905, 719, 322, 760, 528]  # Example list of movie IDs watched by the user\n",
        "result_recommend_movies = recommend_movies_for_user(user_movie_ids, movie_matrix_train, movie_biases_train)\n",
        "\n",
        "print(f\"The user watched:\")\n",
        "for id in user_movie_ids:\n",
        "    print(f\"{get_movie_title(id)}\\t{get_movie_genre(id)}\")\n",
        "\n",
        "print()\n",
        "print(\"Recommended Movies:\")\n",
        "for movie_id, preference_score in result_recommend_movies:\n",
        "    print(movie_id, get_movie_title(movie_id), get_movie_genre(movie_id))\n"
      ]
    },
    {
      "cell_type": "code",
      "execution_count": null,
      "metadata": {},
      "outputs": [],
      "source": []
    }
  ],
  "metadata": {
    "colab": {
      "provenance": []
    },
    "kernelspec": {
      "display_name": "Python 3",
      "name": "python3"
    },
    "language_info": {
      "codemirror_mode": {
        "name": "ipython",
        "version": 3
      },
      "file_extension": ".py",
      "mimetype": "text/x-python",
      "name": "python",
      "nbconvert_exporter": "python",
      "pygments_lexer": "ipython3",
      "version": "3.11.7"
    }
  },
  "nbformat": 4,
  "nbformat_minor": 0
}
